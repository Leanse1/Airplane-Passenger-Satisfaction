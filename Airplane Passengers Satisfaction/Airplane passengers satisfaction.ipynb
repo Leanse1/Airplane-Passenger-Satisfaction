{
 "cells": [
  {
   "cell_type": "markdown",
   "metadata": {},
   "source": [
    "# Data: https://www.kaggle.com/teejmahal20/airline-passenger-satisfaction"
   ]
  },
  {
   "cell_type": "markdown",
   "metadata": {},
   "source": [
    "# Import data"
   ]
  },
  {
   "cell_type": "code",
   "execution_count": 1,
   "metadata": {},
   "outputs": [],
   "source": [
    "import pandas as pd \n",
    "import seaborn as sns"
   ]
  },
  {
   "cell_type": "code",
   "execution_count": 3,
   "metadata": {},
   "outputs": [],
   "source": [
    "data1 = pd.read_csv('C:/Users/Vincent/Documents/AI/Datasets/airline datasets/Airline1.csv')\n",
    "data2 = pd.read_csv('C:/Users/Vincent/Documents/AI/Datasets/airline datasets/Airline2.csv')\n",
    "data = pd.concat([data1,data2])\n",
    "\n",
    "# data = pd.read_csv('Airline2_tiny.csv')"
   ]
  },
  {
   "cell_type": "code",
   "execution_count": 4,
   "metadata": {},
   "outputs": [
    {
     "data": {
      "text/plain": [
       "(129880, 25)"
      ]
     },
     "execution_count": 4,
     "metadata": {},
     "output_type": "execute_result"
    }
   ],
   "source": [
    "data.shape"
   ]
  },
  {
   "cell_type": "code",
   "execution_count": 5,
   "metadata": {
    "scrolled": true
   },
   "outputs": [
    {
     "data": {
      "text/html": [
       "<div>\n",
       "<style scoped>\n",
       "    .dataframe tbody tr th:only-of-type {\n",
       "        vertical-align: middle;\n",
       "    }\n",
       "\n",
       "    .dataframe tbody tr th {\n",
       "        vertical-align: top;\n",
       "    }\n",
       "\n",
       "    .dataframe thead th {\n",
       "        text-align: right;\n",
       "    }\n",
       "</style>\n",
       "<table border=\"1\" class=\"dataframe\">\n",
       "  <thead>\n",
       "    <tr style=\"text-align: right;\">\n",
       "      <th></th>\n",
       "      <th>Unnamed: 0</th>\n",
       "      <th>id</th>\n",
       "      <th>Gender</th>\n",
       "      <th>Customer Type</th>\n",
       "      <th>Age</th>\n",
       "      <th>Type of Travel</th>\n",
       "      <th>Class</th>\n",
       "      <th>Flight Distance</th>\n",
       "      <th>Inflight wifi service</th>\n",
       "      <th>Departure/Arrival time convenient</th>\n",
       "      <th>...</th>\n",
       "      <th>Inflight entertainment</th>\n",
       "      <th>On-board service</th>\n",
       "      <th>Leg room service</th>\n",
       "      <th>Baggage handling</th>\n",
       "      <th>Checkin service</th>\n",
       "      <th>Inflight service</th>\n",
       "      <th>Cleanliness</th>\n",
       "      <th>Departure Delay in Minutes</th>\n",
       "      <th>Arrival Delay in Minutes</th>\n",
       "      <th>satisfaction</th>\n",
       "    </tr>\n",
       "  </thead>\n",
       "  <tbody>\n",
       "    <tr>\n",
       "      <th>25971</th>\n",
       "      <td>25971</td>\n",
       "      <td>78463</td>\n",
       "      <td>Male</td>\n",
       "      <td>disloyal Customer</td>\n",
       "      <td>34</td>\n",
       "      <td>Business travel</td>\n",
       "      <td>Business</td>\n",
       "      <td>526</td>\n",
       "      <td>3</td>\n",
       "      <td>3</td>\n",
       "      <td>...</td>\n",
       "      <td>4</td>\n",
       "      <td>3</td>\n",
       "      <td>2</td>\n",
       "      <td>4</td>\n",
       "      <td>4</td>\n",
       "      <td>5</td>\n",
       "      <td>4</td>\n",
       "      <td>0</td>\n",
       "      <td>0.0</td>\n",
       "      <td>neutral or dissatisfied</td>\n",
       "    </tr>\n",
       "    <tr>\n",
       "      <th>25972</th>\n",
       "      <td>25972</td>\n",
       "      <td>71167</td>\n",
       "      <td>Male</td>\n",
       "      <td>Loyal Customer</td>\n",
       "      <td>23</td>\n",
       "      <td>Business travel</td>\n",
       "      <td>Business</td>\n",
       "      <td>646</td>\n",
       "      <td>4</td>\n",
       "      <td>4</td>\n",
       "      <td>...</td>\n",
       "      <td>4</td>\n",
       "      <td>4</td>\n",
       "      <td>5</td>\n",
       "      <td>5</td>\n",
       "      <td>5</td>\n",
       "      <td>5</td>\n",
       "      <td>4</td>\n",
       "      <td>0</td>\n",
       "      <td>0.0</td>\n",
       "      <td>satisfied</td>\n",
       "    </tr>\n",
       "    <tr>\n",
       "      <th>25973</th>\n",
       "      <td>25973</td>\n",
       "      <td>37675</td>\n",
       "      <td>Female</td>\n",
       "      <td>Loyal Customer</td>\n",
       "      <td>17</td>\n",
       "      <td>Personal Travel</td>\n",
       "      <td>Eco</td>\n",
       "      <td>828</td>\n",
       "      <td>2</td>\n",
       "      <td>5</td>\n",
       "      <td>...</td>\n",
       "      <td>2</td>\n",
       "      <td>4</td>\n",
       "      <td>3</td>\n",
       "      <td>4</td>\n",
       "      <td>5</td>\n",
       "      <td>4</td>\n",
       "      <td>2</td>\n",
       "      <td>0</td>\n",
       "      <td>0.0</td>\n",
       "      <td>neutral or dissatisfied</td>\n",
       "    </tr>\n",
       "    <tr>\n",
       "      <th>25974</th>\n",
       "      <td>25974</td>\n",
       "      <td>90086</td>\n",
       "      <td>Male</td>\n",
       "      <td>Loyal Customer</td>\n",
       "      <td>14</td>\n",
       "      <td>Business travel</td>\n",
       "      <td>Business</td>\n",
       "      <td>1127</td>\n",
       "      <td>3</td>\n",
       "      <td>3</td>\n",
       "      <td>...</td>\n",
       "      <td>4</td>\n",
       "      <td>3</td>\n",
       "      <td>2</td>\n",
       "      <td>5</td>\n",
       "      <td>4</td>\n",
       "      <td>5</td>\n",
       "      <td>4</td>\n",
       "      <td>0</td>\n",
       "      <td>0.0</td>\n",
       "      <td>satisfied</td>\n",
       "    </tr>\n",
       "    <tr>\n",
       "      <th>25975</th>\n",
       "      <td>25975</td>\n",
       "      <td>34799</td>\n",
       "      <td>Female</td>\n",
       "      <td>Loyal Customer</td>\n",
       "      <td>42</td>\n",
       "      <td>Personal Travel</td>\n",
       "      <td>Eco</td>\n",
       "      <td>264</td>\n",
       "      <td>2</td>\n",
       "      <td>5</td>\n",
       "      <td>...</td>\n",
       "      <td>1</td>\n",
       "      <td>1</td>\n",
       "      <td>2</td>\n",
       "      <td>1</td>\n",
       "      <td>1</td>\n",
       "      <td>1</td>\n",
       "      <td>1</td>\n",
       "      <td>0</td>\n",
       "      <td>0.0</td>\n",
       "      <td>neutral or dissatisfied</td>\n",
       "    </tr>\n",
       "  </tbody>\n",
       "</table>\n",
       "<p>5 rows × 25 columns</p>\n",
       "</div>"
      ],
      "text/plain": [
       "       Unnamed: 0     id  Gender      Customer Type  Age   Type of Travel  \\\n",
       "25971       25971  78463    Male  disloyal Customer   34  Business travel   \n",
       "25972       25972  71167    Male     Loyal Customer   23  Business travel   \n",
       "25973       25973  37675  Female     Loyal Customer   17  Personal Travel   \n",
       "25974       25974  90086    Male     Loyal Customer   14  Business travel   \n",
       "25975       25975  34799  Female     Loyal Customer   42  Personal Travel   \n",
       "\n",
       "          Class  Flight Distance  Inflight wifi service  \\\n",
       "25971  Business              526                      3   \n",
       "25972  Business              646                      4   \n",
       "25973       Eco              828                      2   \n",
       "25974  Business             1127                      3   \n",
       "25975       Eco              264                      2   \n",
       "\n",
       "       Departure/Arrival time convenient  ...  Inflight entertainment  \\\n",
       "25971                                  3  ...                       4   \n",
       "25972                                  4  ...                       4   \n",
       "25973                                  5  ...                       2   \n",
       "25974                                  3  ...                       4   \n",
       "25975                                  5  ...                       1   \n",
       "\n",
       "       On-board service  Leg room service  Baggage handling  Checkin service  \\\n",
       "25971                 3                 2                 4                4   \n",
       "25972                 4                 5                 5                5   \n",
       "25973                 4                 3                 4                5   \n",
       "25974                 3                 2                 5                4   \n",
       "25975                 1                 2                 1                1   \n",
       "\n",
       "       Inflight service  Cleanliness  Departure Delay in Minutes  \\\n",
       "25971                 5            4                           0   \n",
       "25972                 5            4                           0   \n",
       "25973                 4            2                           0   \n",
       "25974                 5            4                           0   \n",
       "25975                 1            1                           0   \n",
       "\n",
       "       Arrival Delay in Minutes             satisfaction  \n",
       "25971                       0.0  neutral or dissatisfied  \n",
       "25972                       0.0                satisfied  \n",
       "25973                       0.0  neutral or dissatisfied  \n",
       "25974                       0.0                satisfied  \n",
       "25975                       0.0  neutral or dissatisfied  \n",
       "\n",
       "[5 rows x 25 columns]"
      ]
     },
     "execution_count": 5,
     "metadata": {},
     "output_type": "execute_result"
    }
   ],
   "source": [
    "data.tail()"
   ]
  },
  {
   "cell_type": "code",
   "execution_count": 6,
   "metadata": {},
   "outputs": [
    {
     "name": "stderr",
     "output_type": "stream",
     "text": [
      "C:\\Users\\Vincent\\AppData\\Local\\Temp\\ipykernel_16804\\1794321463.py:1: FutureWarning: The default value of numeric_only in DataFrame.corr is deprecated. In a future version, it will default to False. Select only valid columns or specify the value of numeric_only to silence this warning.\n",
      "  sns.heatmap(data.corr())\n"
     ]
    },
    {
     "data": {
      "text/plain": [
       "<Axes: >"
      ]
     },
     "execution_count": 6,
     "metadata": {},
     "output_type": "execute_result"
    },
    {
     "data": {
      "image/png": "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",
      "text/plain": [
       "<Figure size 640x480 with 2 Axes>"
      ]
     },
     "metadata": {},
     "output_type": "display_data"
    }
   ],
   "source": [
    "sns.heatmap(data.corr())"
   ]
  },
  {
   "cell_type": "code",
   "execution_count": null,
   "metadata": {},
   "outputs": [],
   "source": []
  },
  {
   "cell_type": "code",
   "execution_count": 5,
   "metadata": {},
   "outputs": [],
   "source": [
    "X = data.iloc[:,:-1]"
   ]
  },
  {
   "cell_type": "code",
   "execution_count": 6,
   "metadata": {},
   "outputs": [
    {
     "data": {
      "text/html": [
       "<div>\n",
       "<style scoped>\n",
       "    .dataframe tbody tr th:only-of-type {\n",
       "        vertical-align: middle;\n",
       "    }\n",
       "\n",
       "    .dataframe tbody tr th {\n",
       "        vertical-align: top;\n",
       "    }\n",
       "\n",
       "    .dataframe thead th {\n",
       "        text-align: right;\n",
       "    }\n",
       "</style>\n",
       "<table border=\"1\" class=\"dataframe\">\n",
       "  <thead>\n",
       "    <tr style=\"text-align: right;\">\n",
       "      <th></th>\n",
       "      <th>Gender</th>\n",
       "      <th>Customer Type</th>\n",
       "      <th>Age</th>\n",
       "      <th>Type of Travel</th>\n",
       "      <th>Class</th>\n",
       "      <th>Flight Distance</th>\n",
       "      <th>Inflight wifi service</th>\n",
       "      <th>Departure/Arrival time convenient</th>\n",
       "      <th>Ease of Online booking</th>\n",
       "      <th>Gate location</th>\n",
       "      <th>...</th>\n",
       "      <th>Seat comfort</th>\n",
       "      <th>Inflight entertainment</th>\n",
       "      <th>On-board service</th>\n",
       "      <th>Leg room service</th>\n",
       "      <th>Baggage handling</th>\n",
       "      <th>Checkin service</th>\n",
       "      <th>Inflight service</th>\n",
       "      <th>Cleanliness</th>\n",
       "      <th>Departure Delay in Minutes</th>\n",
       "      <th>Arrival Delay in Minutes</th>\n",
       "    </tr>\n",
       "  </thead>\n",
       "  <tbody>\n",
       "    <tr>\n",
       "      <th>0</th>\n",
       "      <td>Female</td>\n",
       "      <td>Loyal Customer</td>\n",
       "      <td>52</td>\n",
       "      <td>Business travel</td>\n",
       "      <td>Eco</td>\n",
       "      <td>160</td>\n",
       "      <td>5</td>\n",
       "      <td>4</td>\n",
       "      <td>3</td>\n",
       "      <td>4</td>\n",
       "      <td>...</td>\n",
       "      <td>3</td>\n",
       "      <td>5</td>\n",
       "      <td>5</td>\n",
       "      <td>5</td>\n",
       "      <td>5</td>\n",
       "      <td>2</td>\n",
       "      <td>5</td>\n",
       "      <td>5</td>\n",
       "      <td>50</td>\n",
       "      <td>44.0</td>\n",
       "    </tr>\n",
       "    <tr>\n",
       "      <th>1</th>\n",
       "      <td>Female</td>\n",
       "      <td>Loyal Customer</td>\n",
       "      <td>36</td>\n",
       "      <td>Business travel</td>\n",
       "      <td>Business</td>\n",
       "      <td>2863</td>\n",
       "      <td>1</td>\n",
       "      <td>1</td>\n",
       "      <td>3</td>\n",
       "      <td>1</td>\n",
       "      <td>...</td>\n",
       "      <td>5</td>\n",
       "      <td>4</td>\n",
       "      <td>4</td>\n",
       "      <td>4</td>\n",
       "      <td>4</td>\n",
       "      <td>3</td>\n",
       "      <td>4</td>\n",
       "      <td>5</td>\n",
       "      <td>0</td>\n",
       "      <td>0.0</td>\n",
       "    </tr>\n",
       "    <tr>\n",
       "      <th>2</th>\n",
       "      <td>Male</td>\n",
       "      <td>disloyal Customer</td>\n",
       "      <td>20</td>\n",
       "      <td>Business travel</td>\n",
       "      <td>Eco</td>\n",
       "      <td>192</td>\n",
       "      <td>2</td>\n",
       "      <td>0</td>\n",
       "      <td>2</td>\n",
       "      <td>4</td>\n",
       "      <td>...</td>\n",
       "      <td>2</td>\n",
       "      <td>2</td>\n",
       "      <td>4</td>\n",
       "      <td>1</td>\n",
       "      <td>3</td>\n",
       "      <td>2</td>\n",
       "      <td>2</td>\n",
       "      <td>2</td>\n",
       "      <td>0</td>\n",
       "      <td>0.0</td>\n",
       "    </tr>\n",
       "    <tr>\n",
       "      <th>3</th>\n",
       "      <td>Male</td>\n",
       "      <td>Loyal Customer</td>\n",
       "      <td>44</td>\n",
       "      <td>Business travel</td>\n",
       "      <td>Business</td>\n",
       "      <td>3377</td>\n",
       "      <td>0</td>\n",
       "      <td>0</td>\n",
       "      <td>0</td>\n",
       "      <td>2</td>\n",
       "      <td>...</td>\n",
       "      <td>4</td>\n",
       "      <td>1</td>\n",
       "      <td>1</td>\n",
       "      <td>1</td>\n",
       "      <td>1</td>\n",
       "      <td>3</td>\n",
       "      <td>1</td>\n",
       "      <td>4</td>\n",
       "      <td>0</td>\n",
       "      <td>6.0</td>\n",
       "    </tr>\n",
       "    <tr>\n",
       "      <th>4</th>\n",
       "      <td>Female</td>\n",
       "      <td>Loyal Customer</td>\n",
       "      <td>49</td>\n",
       "      <td>Business travel</td>\n",
       "      <td>Eco</td>\n",
       "      <td>1182</td>\n",
       "      <td>2</td>\n",
       "      <td>3</td>\n",
       "      <td>4</td>\n",
       "      <td>3</td>\n",
       "      <td>...</td>\n",
       "      <td>2</td>\n",
       "      <td>2</td>\n",
       "      <td>2</td>\n",
       "      <td>2</td>\n",
       "      <td>2</td>\n",
       "      <td>4</td>\n",
       "      <td>2</td>\n",
       "      <td>4</td>\n",
       "      <td>0</td>\n",
       "      <td>20.0</td>\n",
       "    </tr>\n",
       "  </tbody>\n",
       "</table>\n",
       "<p>5 rows × 22 columns</p>\n",
       "</div>"
      ],
      "text/plain": [
       "   Gender      Customer Type  Age   Type of Travel     Class  Flight Distance  \\\n",
       "0  Female     Loyal Customer   52  Business travel       Eco              160   \n",
       "1  Female     Loyal Customer   36  Business travel  Business             2863   \n",
       "2    Male  disloyal Customer   20  Business travel       Eco              192   \n",
       "3    Male     Loyal Customer   44  Business travel  Business             3377   \n",
       "4  Female     Loyal Customer   49  Business travel       Eco             1182   \n",
       "\n",
       "   Inflight wifi service  Departure/Arrival time convenient  \\\n",
       "0                      5                                  4   \n",
       "1                      1                                  1   \n",
       "2                      2                                  0   \n",
       "3                      0                                  0   \n",
       "4                      2                                  3   \n",
       "\n",
       "   Ease of Online booking  Gate location  ...  Seat comfort  \\\n",
       "0                       3              4  ...             3   \n",
       "1                       3              1  ...             5   \n",
       "2                       2              4  ...             2   \n",
       "3                       0              2  ...             4   \n",
       "4                       4              3  ...             2   \n",
       "\n",
       "   Inflight entertainment  On-board service  Leg room service  \\\n",
       "0                       5                 5                 5   \n",
       "1                       4                 4                 4   \n",
       "2                       2                 4                 1   \n",
       "3                       1                 1                 1   \n",
       "4                       2                 2                 2   \n",
       "\n",
       "   Baggage handling  Checkin service  Inflight service  Cleanliness  \\\n",
       "0                 5                2                 5            5   \n",
       "1                 4                3                 4            5   \n",
       "2                 3                2                 2            2   \n",
       "3                 1                3                 1            4   \n",
       "4                 2                4                 2            4   \n",
       "\n",
       "   Departure Delay in Minutes  Arrival Delay in Minutes  \n",
       "0                          50                      44.0  \n",
       "1                           0                       0.0  \n",
       "2                           0                       0.0  \n",
       "3                           0                       6.0  \n",
       "4                           0                      20.0  \n",
       "\n",
       "[5 rows x 22 columns]"
      ]
     },
     "execution_count": 6,
     "metadata": {},
     "output_type": "execute_result"
    }
   ],
   "source": [
    "X.head()"
   ]
  },
  {
   "cell_type": "code",
   "execution_count": 7,
   "metadata": {},
   "outputs": [],
   "source": [
    "y = data.iloc[:,-1]"
   ]
  },
  {
   "cell_type": "code",
   "execution_count": 8,
   "metadata": {},
   "outputs": [
    {
     "data": {
      "text/plain": [
       "0                  satisfied\n",
       "1                  satisfied\n",
       "2    neutral or dissatisfied\n",
       "3                  satisfied\n",
       "4                  satisfied\n",
       "Name: satisfaction, dtype: object"
      ]
     },
     "execution_count": 8,
     "metadata": {},
     "output_type": "execute_result"
    }
   ],
   "source": [
    "y.head()"
   ]
  },
  {
   "cell_type": "markdown",
   "metadata": {},
   "source": [
    "# Handling missing data - Numeric type"
   ]
  },
  {
   "cell_type": "code",
   "execution_count": 9,
   "metadata": {},
   "outputs": [],
   "source": [
    "import numpy as np\n",
    "from sklearn.impute import SimpleImputer\n",
    "imp_mean = SimpleImputer(missing_values=np.nan, strategy='mean')"
   ]
  },
  {
   "cell_type": "code",
   "execution_count": 10,
   "metadata": {},
   "outputs": [],
   "source": [
    "#X.dtypes"
   ]
  },
  {
   "cell_type": "code",
   "execution_count": 11,
   "metadata": {},
   "outputs": [],
   "source": [
    "numerical_cols = list(np.where((X.dtypes == np.int64) | (X.dtypes == np.float64))[0])"
   ]
  },
  {
   "cell_type": "code",
   "execution_count": 12,
   "metadata": {},
   "outputs": [
    {
     "data": {
      "text/plain": [
       "SimpleImputer()"
      ]
     },
     "execution_count": 12,
     "metadata": {},
     "output_type": "execute_result"
    }
   ],
   "source": [
    "imp_mean.fit(X.iloc[:,numerical_cols])"
   ]
  },
  {
   "cell_type": "code",
   "execution_count": 13,
   "metadata": {},
   "outputs": [],
   "source": [
    "X.iloc[:,numerical_cols] = imp_mean.transform(X.iloc[:,numerical_cols])"
   ]
  },
  {
   "cell_type": "markdown",
   "metadata": {},
   "source": [
    "### Handling missing string data"
   ]
  },
  {
   "cell_type": "code",
   "execution_count": 14,
   "metadata": {},
   "outputs": [],
   "source": [
    "string_cols = list(np.where((X.dtypes == np.object))[0])"
   ]
  },
  {
   "cell_type": "code",
   "execution_count": 15,
   "metadata": {},
   "outputs": [],
   "source": [
    "imp_mean = SimpleImputer(missing_values=np.nan, strategy='most_frequent')"
   ]
  },
  {
   "cell_type": "code",
   "execution_count": 16,
   "metadata": {},
   "outputs": [
    {
     "data": {
      "text/plain": [
       "SimpleImputer(strategy='most_frequent')"
      ]
     },
     "execution_count": 16,
     "metadata": {},
     "output_type": "execute_result"
    }
   ],
   "source": [
    "imp_mean.fit(X.iloc[:,string_cols])"
   ]
  },
  {
   "cell_type": "code",
   "execution_count": 17,
   "metadata": {},
   "outputs": [],
   "source": [
    "X.iloc[:,string_cols] = imp_mean.transform(X.iloc[:,string_cols])"
   ]
  },
  {
   "cell_type": "markdown",
   "metadata": {},
   "source": [
    "# One Hot encoder method"
   ]
  },
  {
   "cell_type": "code",
   "execution_count": 18,
   "metadata": {},
   "outputs": [],
   "source": [
    "def OneHotEncoderMethod(indices, data):\n",
    "    from sklearn.compose import ColumnTransformer\n",
    "    from sklearn.preprocessing import OneHotEncoder\n",
    "    columnTransformer = ColumnTransformer([('encoder', OneHotEncoder(),indices )], remainder='passthrough')\n",
    "    return columnTransformer.fit_transform(data)"
   ]
  },
  {
   "cell_type": "markdown",
   "metadata": {},
   "source": [
    "# Label encoding method"
   ]
  },
  {
   "cell_type": "code",
   "execution_count": 19,
   "metadata": {},
   "outputs": [],
   "source": [
    "def LabelEncoderMethod(series):\n",
    "    from sklearn import preprocessing\n",
    "    le = preprocessing.LabelEncoder()\n",
    "    le.fit(series)\n",
    "    #print('Actual labels',le.classes_)\n",
    "    #print('Encoding values',le.transform(pd.unique(series)))\n",
    "    return le.transform(series) "
   ]
  },
  {
   "cell_type": "code",
   "execution_count": null,
   "metadata": {},
   "outputs": [],
   "source": []
  },
  {
   "cell_type": "markdown",
   "metadata": {},
   "source": [
    "# Label encoding target feature"
   ]
  },
  {
   "cell_type": "code",
   "execution_count": 20,
   "metadata": {},
   "outputs": [],
   "source": [
    "y = LabelEncoderMethod(y)"
   ]
  },
  {
   "cell_type": "markdown",
   "metadata": {},
   "source": [
    "# Encoding selection for X"
   ]
  },
  {
   "cell_type": "code",
   "execution_count": 21,
   "metadata": {},
   "outputs": [],
   "source": [
    "def EncodingSelection(X, threshold=10):\n",
    "    # Step 01 : Select the string col\n",
    "    string_cols = list(np.where((X.dtypes == np.object))[0])\n",
    "    one_hot_encoding_indices = []\n",
    "    \n",
    "    # Step 02: The number of categoty is 2 and more than threshold, label encode\n",
    "    for col in string_cols:\n",
    "        lenght = len(pd.unique(X[X.columns[col]]))\n",
    "        if lenght == 2 or lenght > threshold:\n",
    "            X[X.columns[col]] = LabelEncoderMethod(X[X.columns[col]])\n",
    "        else:\n",
    "            one_hot_encoding_indices.append(col)\n",
    "            \n",
    "    # Step 03: One hot encode otherwise \n",
    "    X = OneHotEncoderMethod(one_hot_encoding_indices, X)\n",
    "    return X"
   ]
  },
  {
   "cell_type": "code",
   "execution_count": 22,
   "metadata": {},
   "outputs": [],
   "source": [
    "X = EncodingSelection(X)"
   ]
  },
  {
   "cell_type": "code",
   "execution_count": 23,
   "metadata": {},
   "outputs": [
    {
     "data": {
      "text/plain": [
       "(4999, 24)"
      ]
     },
     "execution_count": 23,
     "metadata": {},
     "output_type": "execute_result"
    }
   ],
   "source": [
    "X.shape"
   ]
  },
  {
   "cell_type": "markdown",
   "metadata": {},
   "source": [
    "# Feature selection"
   ]
  },
  {
   "cell_type": "code",
   "execution_count": 24,
   "metadata": {},
   "outputs": [],
   "source": [
    "from sklearn.feature_selection import SelectKBest, chi2"
   ]
  },
  {
   "cell_type": "code",
   "execution_count": 25,
   "metadata": {},
   "outputs": [],
   "source": [
    "kbest = SelectKBest(score_func=chi2, k='all')"
   ]
  },
  {
   "cell_type": "code",
   "execution_count": 26,
   "metadata": {},
   "outputs": [],
   "source": [
    "from sklearn import preprocessing\n",
    "MMS = preprocessing.MinMaxScaler()"
   ]
  },
  {
   "cell_type": "code",
   "execution_count": 27,
   "metadata": {},
   "outputs": [],
   "source": [
    "K_features = 10"
   ]
  },
  {
   "cell_type": "code",
   "execution_count": 28,
   "metadata": {},
   "outputs": [],
   "source": [
    "x_temp = MMS.fit_transform(X)"
   ]
  },
  {
   "cell_type": "code",
   "execution_count": 29,
   "metadata": {},
   "outputs": [],
   "source": [
    "x_temp = kbest.fit(x_temp,y)"
   ]
  },
  {
   "cell_type": "code",
   "execution_count": 30,
   "metadata": {},
   "outputs": [],
   "source": [
    "best_features = np.argsort(x_temp.scores_)[-K_features:]"
   ]
  },
  {
   "cell_type": "code",
   "execution_count": 31,
   "metadata": {},
   "outputs": [
    {
     "data": {
      "text/plain": [
       "array([ 8,  7, 15, 21, 14, 13,  4,  1,  0,  6], dtype=int64)"
      ]
     },
     "execution_count": 31,
     "metadata": {},
     "output_type": "execute_result"
    }
   ],
   "source": [
    "best_features"
   ]
  },
  {
   "cell_type": "code",
   "execution_count": 32,
   "metadata": {},
   "outputs": [],
   "source": [
    "features_to_delete = best_features = np.argsort(x_temp.scores_)[:-K_features]"
   ]
  },
  {
   "cell_type": "code",
   "execution_count": 33,
   "metadata": {},
   "outputs": [],
   "source": [
    "X = np.delete(X, features_to_delete, axis=1)"
   ]
  },
  {
   "cell_type": "code",
   "execution_count": 34,
   "metadata": {},
   "outputs": [
    {
     "data": {
      "text/plain": [
       "(4999, 10)"
      ]
     },
     "execution_count": 34,
     "metadata": {},
     "output_type": "execute_result"
    }
   ],
   "source": [
    "X.shape"
   ]
  },
  {
   "cell_type": "code",
   "execution_count": 35,
   "metadata": {},
   "outputs": [],
   "source": [
    "del x_temp"
   ]
  },
  {
   "cell_type": "markdown",
   "metadata": {},
   "source": [
    "# Train test split"
   ]
  },
  {
   "cell_type": "code",
   "execution_count": 36,
   "metadata": {},
   "outputs": [],
   "source": [
    "import numpy as np\n",
    "from sklearn.model_selection import train_test_split"
   ]
  },
  {
   "cell_type": "code",
   "execution_count": 37,
   "metadata": {},
   "outputs": [],
   "source": [
    "X_train, X_test, y_train, y_test = train_test_split(X, y, test_size=0.20, random_state=1)"
   ]
  },
  {
   "cell_type": "code",
   "execution_count": 38,
   "metadata": {},
   "outputs": [
    {
     "name": "stdout",
     "output_type": "stream",
     "text": [
      "(3999, 10)\n"
     ]
    }
   ],
   "source": [
    "print(X_train.shape)"
   ]
  },
  {
   "cell_type": "markdown",
   "metadata": {},
   "source": [
    "# Feature scaling"
   ]
  },
  {
   "cell_type": "markdown",
   "metadata": {},
   "source": [
    "### Standardization: (X - mean(X)) / std(X)"
   ]
  },
  {
   "cell_type": "markdown",
   "metadata": {},
   "source": [
    "### Normalization = (x - min(x)) / (max(x) - min(x))"
   ]
  },
  {
   "cell_type": "code",
   "execution_count": 39,
   "metadata": {},
   "outputs": [],
   "source": [
    "from sklearn import preprocessing"
   ]
  },
  {
   "cell_type": "code",
   "execution_count": 40,
   "metadata": {},
   "outputs": [],
   "source": [
    "sc = preprocessing.StandardScaler(with_mean=False)"
   ]
  },
  {
   "cell_type": "code",
   "execution_count": 41,
   "metadata": {},
   "outputs": [
    {
     "data": {
      "text/plain": [
       "StandardScaler(with_mean=False)"
      ]
     },
     "execution_count": 41,
     "metadata": {},
     "output_type": "execute_result"
    }
   ],
   "source": [
    "sc.fit(X_train)"
   ]
  },
  {
   "cell_type": "code",
   "execution_count": 42,
   "metadata": {},
   "outputs": [],
   "source": [
    "X_train = sc.transform(X_train)"
   ]
  },
  {
   "cell_type": "code",
   "execution_count": 43,
   "metadata": {},
   "outputs": [
    {
     "name": "stdout",
     "output_type": "stream",
     "text": [
      "(3999, 10)\n"
     ]
    }
   ],
   "source": [
    "print(X_train.shape)"
   ]
  },
  {
   "cell_type": "code",
   "execution_count": 44,
   "metadata": {},
   "outputs": [],
   "source": [
    "X_test = sc.transform(X_test)"
   ]
  },
  {
   "cell_type": "code",
   "execution_count": 45,
   "metadata": {},
   "outputs": [
    {
     "name": "stdout",
     "output_type": "stream",
     "text": [
      "(1000, 10)\n"
     ]
    }
   ],
   "source": [
    "print(X_test.shape)"
   ]
  },
  {
   "cell_type": "markdown",
   "metadata": {},
   "source": [
    "#### The data is ready!!"
   ]
  },
  {
   "cell_type": "code",
   "execution_count": 46,
   "metadata": {},
   "outputs": [],
   "source": [
    "from sklearn.metrics import accuracy_score\n",
    "from sklearn.metrics import classification_report\n",
    "from sklearn.model_selection import GridSearchCV\n",
    "from sklearn.model_selection import RandomizedSearchCV\n",
    "from sklearn.model_selection import StratifiedKFold"
   ]
  },
  {
   "cell_type": "markdown",
   "metadata": {},
   "source": [
    "# Building KNN model"
   ]
  },
  {
   "cell_type": "code",
   "execution_count": 48,
   "metadata": {},
   "outputs": [
    {
     "name": "stdout",
     "output_type": "stream",
     "text": [
      "Fitting 2 folds for each of 10 candidates, totalling 20 fits\n"
     ]
    },
    {
     "name": "stderr",
     "output_type": "stream",
     "text": [
      "[Parallel(n_jobs=-1)]: Using backend LokyBackend with 12 concurrent workers.\n",
      "[Parallel(n_jobs=-1)]: Done  18 out of  20 | elapsed:    4.7s remaining:    0.4s\n"
     ]
    },
    {
     "name": "stdout",
     "output_type": "stream",
     "text": [
      "Best Estimator KNeighborsClassifier(leaf_size=1)\n",
      "Best score 0.8774673417446253\n"
     ]
    },
    {
     "name": "stderr",
     "output_type": "stream",
     "text": [
      "[Parallel(n_jobs=-1)]: Done  20 out of  20 | elapsed:    5.1s finished\n"
     ]
    }
   ],
   "source": [
    "from sklearn.neighbors import KNeighborsClassifier\n",
    "model = KNeighborsClassifier()\n",
    "\n",
    "params = {'n_neighbors':[4,5,6,7],\n",
    "              'leaf_size':[1,3,5],\n",
    "              'algorithm':['auto', 'kd_tree'],\n",
    "               'weights': ['uniform', 'distance']\n",
    "         }\n",
    "cv = StratifiedKFold(n_splits=2)\n",
    "random_search_cv = RandomizedSearchCV(estimator=model, \n",
    "                              param_distributions = params, verbose=1, cv=cv,scoring='f1',n_jobs=-1 )\n",
    "\n",
    "\n",
    "\n",
    "random_search_cv.fit(X_train, y_train)\n",
    "print(\"Best Estimator\", random_search_cv.best_estimator_)\n",
    "print(\"Best score\", random_search_cv.best_score_)"
   ]
  },
  {
   "cell_type": "markdown",
   "metadata": {},
   "source": [
    "# Building Logistic regression model"
   ]
  },
  {
   "cell_type": "code",
   "execution_count": 49,
   "metadata": {},
   "outputs": [
    {
     "name": "stderr",
     "output_type": "stream",
     "text": [
      "[Parallel(n_jobs=-1)]: Using backend LokyBackend with 12 concurrent workers.\n",
      "[Parallel(n_jobs=-1)]: Done  18 out of  20 | elapsed:    0.0s remaining:    0.0s\n",
      "[Parallel(n_jobs=-1)]: Done  20 out of  20 | elapsed:    0.0s finished\n"
     ]
    },
    {
     "name": "stdout",
     "output_type": "stream",
     "text": [
      "Fitting 2 folds for each of 10 candidates, totalling 20 fits\n",
      "Best Estimator LogisticRegression(C=0.01)\n",
      "Best score 0.8295203666687819\n"
     ]
    }
   ],
   "source": [
    "from sklearn.linear_model import LogisticRegression\n",
    "model = LogisticRegression()\n",
    "\n",
    "params = {'solver':['newton-cg', 'lbfgs', 'liblinear'],\n",
    "          'penalty': ['l1', 'l2'],\n",
    "          'C':[100, 10, 1.0, 0.1, 0.01]\n",
    "         }\n",
    "\n",
    "cv = StratifiedKFold(n_splits=2)\n",
    "random_search_cv = RandomizedSearchCV(estimator=model, \n",
    "                              param_distributions = params, verbose=1, cv=cv,scoring='f1',n_jobs=-1 )\n",
    "\n",
    "\n",
    "\n",
    "random_search_cv.fit(X_train, y_train)\n",
    "print(\"Best Estimator\", random_search_cv.best_estimator_)\n",
    "print(\"Best score\", random_search_cv.best_score_)"
   ]
  },
  {
   "cell_type": "markdown",
   "metadata": {},
   "source": [
    "# Building GaussianNB model"
   ]
  },
  {
   "cell_type": "code",
   "execution_count": 50,
   "metadata": {},
   "outputs": [
    {
     "name": "stdout",
     "output_type": "stream",
     "text": [
      "0.84\n",
      "              precision    recall  f1-score   support\n",
      "\n",
      "           0       0.86      0.86      0.86       564\n",
      "           1       0.82      0.81      0.82       436\n",
      "\n",
      "    accuracy                           0.84      1000\n",
      "   macro avg       0.84      0.84      0.84      1000\n",
      "weighted avg       0.84      0.84      0.84      1000\n",
      "\n"
     ]
    }
   ],
   "source": [
    "from sklearn.naive_bayes import GaussianNB\n",
    "model_GNB = GaussianNB()\n",
    "model_GNB.fit(X_train,y_train)\n",
    "y_pred = model_GNB.predict(X_test)\n",
    "print(accuracy_score(y_pred,y_test))\n",
    "print(classification_report(y_pred, y_test))"
   ]
  },
  {
   "cell_type": "markdown",
   "metadata": {},
   "source": [
    "# Building SVM (SVC) model"
   ]
  },
  {
   "cell_type": "code",
   "execution_count": 51,
   "metadata": {},
   "outputs": [
    {
     "name": "stdout",
     "output_type": "stream",
     "text": [
      "Fitting 2 folds for each of 10 candidates, totalling 20 fits\n"
     ]
    },
    {
     "name": "stderr",
     "output_type": "stream",
     "text": [
      "[Parallel(n_jobs=-1)]: Using backend LokyBackend with 12 concurrent workers.\n",
      "[Parallel(n_jobs=-1)]: Done  18 out of  20 | elapsed:    1.9s remaining:    0.1s\n",
      "[Parallel(n_jobs=-1)]: Done  20 out of  20 | elapsed:    6.2s finished\n"
     ]
    },
    {
     "name": "stdout",
     "output_type": "stream",
     "text": [
      "Best Estimator SVC(C=10, coef0=0.5, degree=8)\n",
      "Best score 0.9165979221213969\n"
     ]
    }
   ],
   "source": [
    "from sklearn.svm import SVC\n",
    "model = SVC()\n",
    "\n",
    "params = {\n",
    "    'kernel' : ['linear', 'poly', 'rbf', 'sigmoid'],\n",
    "    'C' : [1,5,10],\n",
    "    'degree' : [3,8],\n",
    "    'coef0' : [0.01,10,0.5],\n",
    "    'gamma' : ['auto','scale']\n",
    "}\n",
    "\n",
    "cv = StratifiedKFold(n_splits=2)\n",
    "random_search_cv = RandomizedSearchCV(estimator=model, \n",
    "                              param_distributions = params, verbose=1, cv=cv,scoring='f1',n_jobs=-1 )\n",
    "\n",
    "\n",
    "\n",
    "random_search_cv.fit(X_train, y_train)\n",
    "print(\"Best Estimator\", random_search_cv.best_estimator_)\n",
    "print(\"Best score\", random_search_cv.best_score_)"
   ]
  },
  {
   "cell_type": "markdown",
   "metadata": {},
   "source": [
    "# Building Decision tree model"
   ]
  },
  {
   "cell_type": "code",
   "execution_count": 52,
   "metadata": {},
   "outputs": [
    {
     "name": "stdout",
     "output_type": "stream",
     "text": [
      "Fitting 2 folds for each of 10 candidates, totalling 20 fits\n",
      "Best Estimator DecisionTreeClassifier(max_leaf_nodes=30, min_samples_split=4)\n",
      "Best score 0.9069240944070234\n"
     ]
    },
    {
     "name": "stderr",
     "output_type": "stream",
     "text": [
      "[Parallel(n_jobs=-1)]: Using backend LokyBackend with 12 concurrent workers.\n",
      "[Parallel(n_jobs=-1)]: Done  18 out of  20 | elapsed:    0.0s remaining:    0.0s\n",
      "[Parallel(n_jobs=-1)]: Done  20 out of  20 | elapsed:    0.0s finished\n"
     ]
    }
   ],
   "source": [
    "from sklearn.tree import DecisionTreeClassifier\n",
    "model = DecisionTreeClassifier()\n",
    "\n",
    "params = {'max_leaf_nodes': list(range(2, 100)),\n",
    "          'min_samples_split': [2, 3, 4], \n",
    "         }\n",
    "\n",
    "cv = StratifiedKFold(n_splits=2)\n",
    "random_search_cv = RandomizedSearchCV(estimator=model, \n",
    "                              param_distributions = params, verbose=1, cv=cv,scoring='f1',n_jobs=-1 )\n",
    "\n",
    "\n",
    "\n",
    "random_search_cv.fit(X_train, y_train)\n",
    "print(\"Best Estimator\", random_search_cv.best_estimator_)\n",
    "print(\"Best score\", random_search_cv.best_score_)"
   ]
  },
  {
   "cell_type": "markdown",
   "metadata": {},
   "source": [
    "# Building Random Forest model"
   ]
  },
  {
   "cell_type": "code",
   "execution_count": 53,
   "metadata": {},
   "outputs": [
    {
     "name": "stdout",
     "output_type": "stream",
     "text": [
      "Fitting 2 folds for each of 10 candidates, totalling 20 fits\n"
     ]
    },
    {
     "name": "stderr",
     "output_type": "stream",
     "text": [
      "[Parallel(n_jobs=-1)]: Using backend LokyBackend with 12 concurrent workers.\n",
      "[Parallel(n_jobs=-1)]: Done  18 out of  20 | elapsed:    1.9s remaining:    0.1s\n",
      "[Parallel(n_jobs=-1)]: Done  20 out of  20 | elapsed:    1.9s finished\n"
     ]
    },
    {
     "name": "stdout",
     "output_type": "stream",
     "text": [
      "Best Estimator RandomForestClassifier(max_leaf_nodes=96, min_samples_split=3)\n",
      "Best score 0.9227615146702333\n"
     ]
    }
   ],
   "source": [
    "from sklearn.ensemble import RandomForestClassifier\n",
    "model = RandomForestClassifier()\n",
    "\n",
    "\n",
    "param_grid = {\n",
    "    'bootstrap': [True],\n",
    "    'max_depth': [80, 90, 100, 110],\n",
    "    'max_features': [2, 3],\n",
    "    'min_samples_leaf': [3, 4, 5],\n",
    "    'min_samples_split': [8, 10, 12],\n",
    "    'n_estimators': [100, 200, 300, 1000]\n",
    "}\n",
    "\n",
    "cv = StratifiedKFold(n_splits=2)\n",
    "random_search_cv = RandomizedSearchCV(estimator=model, \n",
    "                              param_distributions = params, verbose=1, cv=cv,scoring='f1',n_jobs=-1 )\n",
    "\n",
    "\n",
    "\n",
    "random_search_cv.fit(X_train, y_train)\n",
    "print(\"Best Estimator\", random_search_cv.best_estimator_)\n",
    "print(\"Best score\", random_search_cv.best_score_)"
   ]
  },
  {
   "cell_type": "markdown",
   "metadata": {},
   "source": [
    "# Building ADABoost model"
   ]
  },
  {
   "cell_type": "code",
   "execution_count": 54,
   "metadata": {},
   "outputs": [
    {
     "name": "stdout",
     "output_type": "stream",
     "text": [
      "Fitting 2 folds for each of 10 candidates, totalling 20 fits\n"
     ]
    },
    {
     "name": "stderr",
     "output_type": "stream",
     "text": [
      "[Parallel(n_jobs=-1)]: Using backend LokyBackend with 12 concurrent workers.\n",
      "[Parallel(n_jobs=-1)]: Done  18 out of  20 | elapsed:    3.5s remaining:    0.3s\n",
      "[Parallel(n_jobs=-1)]: Done  20 out of  20 | elapsed:    3.6s finished\n"
     ]
    },
    {
     "name": "stdout",
     "output_type": "stream",
     "text": [
      "Best Estimator AdaBoostClassifier(learning_rate=0.1, n_estimators=200)\n",
      "Best score 0.8906331862757826\n"
     ]
    }
   ],
   "source": [
    "from sklearn.ensemble import AdaBoostClassifier\n",
    "model = AdaBoostClassifier()\n",
    "\n",
    "params = {\n",
    "     'n_estimators': np.arange(10,300,10),\n",
    "     'learning_rate': [0.01, 0.05, 0.1, 1],\n",
    " }\n",
    "\n",
    "cv = StratifiedKFold(n_splits=2)\n",
    "random_search_cv = RandomizedSearchCV(estimator=model, \n",
    "                              param_distributions = params, verbose=1, cv=cv,scoring='f1',n_jobs=-1 )\n",
    "\n",
    "\n",
    "\n",
    "random_search_cv.fit(X_train, y_train)\n",
    "print(\"Best Estimator\", random_search_cv.best_estimator_)\n",
    "print(\"Best score\", random_search_cv.best_score_)"
   ]
  },
  {
   "cell_type": "markdown",
   "metadata": {},
   "source": [
    "# Building XGBoost model"
   ]
  },
  {
   "cell_type": "code",
   "execution_count": 55,
   "metadata": {},
   "outputs": [
    {
     "name": "stdout",
     "output_type": "stream",
     "text": [
      "Fitting 2 folds for each of 10 candidates, totalling 20 fits\n"
     ]
    },
    {
     "name": "stderr",
     "output_type": "stream",
     "text": [
      "[Parallel(n_jobs=-1)]: Using backend LokyBackend with 12 concurrent workers.\n",
      "[Parallel(n_jobs=-1)]: Done  18 out of  20 | elapsed:    7.5s remaining:    0.7s\n",
      "[Parallel(n_jobs=-1)]: Done  20 out of  20 | elapsed:   12.3s finished\n",
      "C:\\Users\\chaan\\anaconda3\\lib\\site-packages\\xgboost\\sklearn.py:888: UserWarning: The use of label encoder in XGBClassifier is deprecated and will be removed in a future release. To remove this warning, do the following: 1) Pass option use_label_encoder=False when constructing XGBClassifier object; and 2) Encode your labels (y) as integers starting with 0, i.e. 0, 1, 2, ..., [num_class - 1].\n",
      "  warnings.warn(label_encoder_deprecation_msg, UserWarning)\n"
     ]
    },
    {
     "name": "stdout",
     "output_type": "stream",
     "text": [
      "[17:27:30] WARNING: C:/Users/Administrator/workspace/xgboost-win64_release_1.3.0/src/learner.cc:1061: Starting in XGBoost 1.3.0, the default evaluation metric used with the objective 'binary:logistic' was changed from 'error' to 'logloss'. Explicitly set eval_metric if you'd like to restore the old behavior.\n",
      "Best Estimator XGBClassifier(base_score=0.5, booster='gbtree', colsample_bylevel=1,\n",
      "              colsample_bynode=1, colsample_bytree=0.6, gamma=5, gpu_id=-1,\n",
      "              importance_type='gain', interaction_constraints='',\n",
      "              learning_rate=0.1, max_delta_step=0, max_depth=3,\n",
      "              min_child_weight=1, missing=nan, monotone_constraints='()',\n",
      "              n_estimators=500, n_jobs=12, num_parallel_tree=1, random_state=0,\n",
      "              reg_alpha=0, reg_lambda=1, scale_pos_weight=1, subsample=0.6,\n",
      "              tree_method='exact', validate_parameters=1, verbosity=None)\n",
      "Best score 0.922052180776655\n"
     ]
    }
   ],
   "source": [
    "import xgboost as xgb\n",
    "model = xgb.XGBClassifier()\n",
    "\n",
    "params = {\n",
    "        'min_child_weight': [1, 5, 10],\n",
    "        'gamma': [0.5, 1, 1.5, 2, 5],\n",
    "        'subsample': [0.6, 0.8, 1.0],\n",
    "        'colsample_bytree': [0.6, 0.8, 1.0],\n",
    "        'max_depth': [3, 4, 5],\n",
    "        'n_estimators': [100,500,1000],\n",
    "        'learning_rate':[0.01,0.3,0.5,0.1],\n",
    "        'reg_lambda':[1,2]\n",
    "    \n",
    "        }\n",
    "\n",
    "cv = StratifiedKFold(n_splits=2)\n",
    "random_search_cv = RandomizedSearchCV(estimator=model, \n",
    "                              param_distributions = params, verbose=1, cv=cv,scoring='f1',n_jobs=-1 )\n",
    "\n",
    "\n",
    "\n",
    "random_search_cv.fit(X_train, y_train)\n",
    "print(\"Best Estimator\", random_search_cv.best_estimator_)\n",
    "print(\"Best score\", random_search_cv.best_score_)"
   ]
  },
  {
   "cell_type": "code",
   "execution_count": 59,
   "metadata": {},
   "outputs": [
    {
     "name": "stdout",
     "output_type": "stream",
     "text": [
      "[18:57:45] WARNING: C:/Users/Administrator/workspace/xgboost-win64_release_1.3.0/src/learner.cc:1061: Starting in XGBoost 1.3.0, the default evaluation metric used with the objective 'binary:logistic' was changed from 'error' to 'logloss'. Explicitly set eval_metric if you'd like to restore the old behavior.\n",
      "0.937\n",
      "              precision    recall  f1-score   support\n",
      "\n",
      "           0       0.96      0.93      0.95       583\n",
      "           1       0.91      0.94      0.93       417\n",
      "\n",
      "    accuracy                           0.94      1000\n",
      "   macro avg       0.93      0.94      0.94      1000\n",
      "weighted avg       0.94      0.94      0.94      1000\n",
      "\n"
     ]
    }
   ],
   "source": [
    "import xgboost as xgb\n",
    "best_model = xgb.XGBClassifier(base_score=0.5, booster='gbtree', colsample_bylevel=1,\n",
    "              colsample_bynode=1, colsample_bytree=0.6, gamma=5, gpu_id=-1,\n",
    "              importance_type='gain', interaction_constraints='',\n",
    "              learning_rate=0.1, max_delta_step=0, max_depth=3,\n",
    "              min_child_weight=1, monotone_constraints='()',\n",
    "              n_estimators=500, n_jobs=12, num_parallel_tree=1, random_state=0,\n",
    "              reg_alpha=0, reg_lambda=1, scale_pos_weight=1, subsample=0.6,\n",
    "              tree_method='exact', validate_parameters=1, verbosity=None)\n",
    "best_model.fit(X_train,y_train)\n",
    "y_pred = best_model.predict(X_test)\n",
    "print(accuracy_score(y_pred,y_test))\n",
    "print(classification_report(y_pred, y_test))"
   ]
  },
  {
   "cell_type": "markdown",
   "metadata": {},
   "source": [
    "# Voting Classifier"
   ]
  },
  {
   "cell_type": "markdown",
   "metadata": {},
   "source": [
    "# Soft Voting"
   ]
  },
  {
   "cell_type": "code",
   "execution_count": null,
   "metadata": {},
   "outputs": [],
   "source": [
    "from sklearn.ensemble import VotingClassifier"
   ]
  },
  {
   "cell_type": "code",
   "execution_count": null,
   "metadata": {},
   "outputs": [],
   "source": [
    "voting_classifier = VotingClassifier(estimators=[('knnClassifier', knnClassifier), \n",
    "                                                 ('LRM', LRM), \n",
    "                                                 ('model_GNB', model_GNB),\n",
    "                                                 ('model_SVC', model_SVC),\n",
    "                                                 ('model_DTC', model_DTC),\n",
    "                                                 ('model_RFC', model_RFC),\n",
    "                                                 ('model_ABC', model_ABC),\n",
    "                                                 ('model_xgb', model_xgb)\n",
    "                                                 \n",
    "                                                ], voting='soft')\n",
    "\n",
    "voting_classifier.fit(X_train,y_train)\n",
    "y_pred = model_xgb.predict(X_test)\n",
    "accuracy_score(y_pred,y_test)"
   ]
  },
  {
   "cell_type": "code",
   "execution_count": null,
   "metadata": {},
   "outputs": [],
   "source": []
  },
  {
   "cell_type": "markdown",
   "metadata": {},
   "source": [
    "# Hard Voting"
   ]
  },
  {
   "cell_type": "code",
   "execution_count": null,
   "metadata": {},
   "outputs": [],
   "source": [
    "voting_classifier = VotingClassifier(estimators=[('knnClassifier', knnClassifier), \n",
    "                                                 ('LRM', LRM), \n",
    "                                                 ('model_GNB', model_GNB),\n",
    "                                                 ('model_SVC', model_SVC),\n",
    "                                                 ('model_DTC', model_DTC),\n",
    "                                                 ('model_RFC', model_RFC),\n",
    "                                                 ('model_ABC', model_ABC),\n",
    "                                                 ('model_xgb', model_xgb)\n",
    "                                                 \n",
    "                                                ], voting='hard')\n",
    "\n",
    "voting_classifier.fit(X_train,y_train)\n",
    "y_pred = model_xgb.predict(X_test)\n",
    "accuracy_score(y_pred,y_test)"
   ]
  },
  {
=======
   "cell_type": "code",
   "execution_count": null,
   "metadata": {},
   "outputs": [],
   "source": []
  },
  {
   "cell_type": "markdown",
   "metadata": {},
   "source": [
    "# Pre deployment and save"
   ]
  },
  {
   "cell_type": "code",
   "execution_count": null,
   "metadata": {},
   "outputs": [],
   "source": [
    "import pickle"
   ]
  },
  {
   "cell_type": "code",
   "execution_count": null,
   "metadata": {},
   "outputs": [],
   "source": [
    "file_name = 'C:/Users/Vincent/Documents/AI/Datasets/model_random'\n",
    "pickle.dump(best_model, open(file_name, 'wb'))"
   ]
  },
  {
   "cell_type": "code",
   "execution_count": null,
   "metadata": {},
   "outputs": [],
   "source": [
    "saved_model = pickle.load(open('model_random', 'rb'))"
   ]
  },
  {
   "cell_type": "code",
   "execution_count": null,
   "metadata": {},
   "outputs": [],
   "source": [
    "y_pred = saved_model.predict(X_test)\n",
    "r2_score(y_test, y_pred)"
   ]
  },
  {
   "cell_type": "code",
   "execution_count": null,
   "metadata": {},
   "outputs": [],
   "source": []
  }
 ],
 "metadata": {
  "kernelspec": {
   "display_name": "Python 3 (ipykernel)",
   "language": "python",
   "name": "python3"
  },
  "language_info": {
   "codemirror_mode": {
    "name": "ipython",
    "version": 3
   },
   "file_extension": ".py",
   "mimetype": "text/x-python",
   "name": "python",
   "nbconvert_exporter": "python",
   "pygments_lexer": "ipython3",
   "version": "3.11.4"
  }
 },
 "nbformat": 4,
 "nbformat_minor": 4
}
